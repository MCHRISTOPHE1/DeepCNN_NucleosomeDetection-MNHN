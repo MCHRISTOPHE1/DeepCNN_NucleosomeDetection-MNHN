{
 "cells": [
  {
   "cell_type": "code",
   "execution_count": 1,
   "metadata": {},
   "outputs": [],
   "source": [
    "import numpy as np\n",
    "import pandas as pd\n",
    "import matplotlib.pyplot as plt\n",
    "import seaborn as sns\n",
    "from sys import path\n",
    "path.insert(1, \"/home/maxime/data/utils\")\n",
    "import myfunc as mf\n",
    "import logomaker as lm\n",
    "import seaborn as sns\n",
    "import pywt\n",
    "import scipy\n",
    "\n",
    "\n"
   ]
  },
  {
   "cell_type": "code",
   "execution_count": 15,
   "metadata": {},
   "outputs": [],
   "source": [
    "def wigheader(inter, span):\n",
    "    head = f\"fixedStep chrom=chr1 start=1 step={inter} span={span}\\n\"\n",
    "    return head"
   ]
  },
  {
   "cell_type": "code",
   "execution_count": 16,
   "metadata": {},
   "outputs": [
    {
     "data": {
      "text/plain": [
       "'fixedStep chrom=chr1 start=1 step=1 span=1\\n'"
      ]
     },
     "execution_count": 16,
     "metadata": {},
     "output_type": "execute_result"
    }
   ],
   "source": [
    "wigheader(1, 1)"
   ]
  },
  {
   "cell_type": "markdown",
   "metadata": {},
   "source": [
    "# Data"
   ]
  },
  {
   "cell_type": "code",
   "execution_count": 42,
   "metadata": {},
   "outputs": [],
   "source": [
    "d = mf.loadnp(\"/home/maxime/data/mnase/labels/IP_data/MNase_bed/multimappers/A/gauss15/chr1.npz\")\n",
    "file_path = \"/home/maxime/data/mnase/wigtest/labels.wig\"\n",
    "with open(file_path, \"w\") as f:\n",
    "    f.write(wigheader(1, 1))\n",
    "    np.savetxt(f, d, delimiter=\"\\n\")"
   ]
  },
  {
   "cell_type": "markdown",
   "metadata": {},
   "source": [
    "# Mutasome"
   ]
  },
  {
   "cell_type": "code",
   "execution_count": 49,
   "metadata": {},
   "outputs": [],
   "source": [
    "d = mf.zscore(np.mean(mf.loadnp(\"/home/maxime/data/mnase/mutasome/mA_gauss15_chem5H_250/mse_mut_mAg15_chr1.npz\"), axis = 1))\n",
    "file_path = \"/home/maxime/data/mnase/wigtest/mutasome.wig\"\n",
    "with open(file_path, \"w\") as f:\n",
    "    f.write(wigheader(1, 1))\n",
    "    np.savetxt(f, d, delimiter=\"\\n\")"
   ]
  },
  {
   "cell_type": "code",
   "execution_count": 46,
   "metadata": {},
   "outputs": [],
   "source": [
    "d = mf.zscore(np.mean(mf.loadnp(\"/home/maxime/data/mnase/mutasome/mA_gauss15_chem5H_250/mse_mut_mAg15_chr1.npz\"), axis = 1))\n"
   ]
  },
  {
   "cell_type": "code",
   "execution_count": 48,
   "metadata": {},
   "outputs": [
    {
     "data": {
      "image/png": "[encoded data removed]",
      "text/plain": [
       "<Figure size 432x288 with 1 Axes>"
      ]
     },
     "metadata": {
      "needs_background": "light"
     },
     "output_type": "display_data"
    }
   ],
   "source": [
    "plt.hist(d, 256)\n",
    "plt.yscale(\"log\")"
   ]
  },
  {
   "cell_type": "markdown",
   "metadata": {},
   "source": [
    "# Wave"
   ]
  },
  {
   "cell_type": "code",
   "execution_count": 22,
   "metadata": {},
   "outputs": [],
   "source": [
    "d = np.array(np.argmax(mf.loadnp(\"/home/maxime/data/mnase/wavelets/310723/1.npz\"), axis = 0)+150, dtype=np.uint8)\n",
    "file_path = \"/home/maxime/data/mnase/wigtest/wave.wig\"\n",
    "with open(file_path, \"w\") as f:\n",
    "    f.write(wigheader(200, 200))\n",
    "    np.savetxt(f, d, delimiter=\"\\n\")"
   ]
  },
  {
   "cell_type": "code",
   "execution_count": 21,
   "metadata": {},
   "outputs": [
    {
     "data": {
      "text/plain": [
       "array([-27,  -6,  -8, ..., -20,  -6,  -6], dtype=int8)"
      ]
     },
     "execution_count": 21,
     "metadata": {},
     "output_type": "execute_result"
    }
   ],
   "source": [
    "d"
   ]
  }
 ],
 "metadata": {
  "kernelspec": {
   "display_name": "tf2.5",
   "language": "python",
   "name": "python3"
  },
  "language_info": {
   "codemirror_mode": {
    "name": "ipython",
    "version": 3
   },
   "file_extension": ".py",
   "mimetype": "text/x-python",
   "name": "python",
   "nbconvert_exporter": "python",
   "pygments_lexer": "ipython3",
   "version": "3.8.12"
  },
  "orig_nbformat": 4
 },
 "nbformat": 4,
 "nbformat_minor": 2
}
