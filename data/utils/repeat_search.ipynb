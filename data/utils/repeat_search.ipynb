{
 "cells": [
  {
   "cell_type": "code",
   "execution_count": 1,
   "metadata": {},
   "outputs": [
    {
     "data": {
      "text/html": [
       "<div>\n",
       "<style scoped>\n",
       "    .dataframe tbody tr th:only-of-type {\n",
       "        vertical-align: middle;\n",
       "    }\n",
       "\n",
       "    .dataframe tbody tr th {\n",
       "        vertical-align: top;\n",
       "    }\n",
       "\n",
       "    .dataframe thead th {\n",
       "        text-align: right;\n",
       "    }\n",
       "</style>\n",
       "<table border=\"1\" class=\"dataframe\">\n",
       "  <thead>\n",
       "    <tr style=\"text-align: right;\">\n",
       "      <th></th>\n",
       "      <th>chr</th>\n",
       "      <th>pos</th>\n",
       "      <th>score</th>\n",
       "    </tr>\n",
       "  </thead>\n",
       "  <tbody>\n",
       "    <tr>\n",
       "      <th>0</th>\n",
       "      <td>chr1</td>\n",
       "      <td>53659329</td>\n",
       "      <td>11.1899995803833</td>\n",
       "    </tr>\n",
       "    <tr>\n",
       "      <th>1</th>\n",
       "      <td>chr1</td>\n",
       "      <td>175556293</td>\n",
       "      <td>-0.25</td>\n",
       "    </tr>\n",
       "    <tr>\n",
       "      <th>2</th>\n",
       "      <td>chr1</td>\n",
       "      <td>151242438</td>\n",
       "      <td>35.65999984741211</td>\n",
       "    </tr>\n",
       "    <tr>\n",
       "      <th>3</th>\n",
       "      <td>chr1</td>\n",
       "      <td>83412689</td>\n",
       "      <td>21.290000915527344</td>\n",
       "    </tr>\n",
       "    <tr>\n",
       "      <th>4</th>\n",
       "      <td>chr1</td>\n",
       "      <td>161269459</td>\n",
       "      <td>11.65999984741211</td>\n",
       "    </tr>\n",
       "    <tr>\n",
       "      <th>...</th>\n",
       "      <td>...</td>\n",
       "      <td>...</td>\n",
       "      <td>...</td>\n",
       "    </tr>\n",
       "    <tr>\n",
       "      <th>60110</th>\n",
       "      <td>chr19</td>\n",
       "      <td>54986389</td>\n",
       "      <td>5.949999809265137</td>\n",
       "    </tr>\n",
       "    <tr>\n",
       "      <th>60111</th>\n",
       "      <td>chr19</td>\n",
       "      <td>38422166</td>\n",
       "      <td>24.489999771118164</td>\n",
       "    </tr>\n",
       "    <tr>\n",
       "      <th>60112</th>\n",
       "      <td>chr19</td>\n",
       "      <td>53290647</td>\n",
       "      <td>0.07000000029802322</td>\n",
       "    </tr>\n",
       "    <tr>\n",
       "      <th>60113</th>\n",
       "      <td>chr19</td>\n",
       "      <td>13821603</td>\n",
       "      <td>8.359999656677246</td>\n",
       "    </tr>\n",
       "    <tr>\n",
       "      <th>60114</th>\n",
       "      <td>chr19</td>\n",
       "      <td>36996799</td>\n",
       "      <td>26.329999923706055</td>\n",
       "    </tr>\n",
       "  </tbody>\n",
       "</table>\n",
       "<p>60115 rows × 3 columns</p>\n",
       "</div>"
      ],
      "text/plain": [
       "         chr        pos                score\n",
       "0       chr1   53659329     11.1899995803833\n",
       "1       chr1  175556293                -0.25\n",
       "2       chr1  151242438    35.65999984741211\n",
       "3       chr1   83412689   21.290000915527344\n",
       "4       chr1  161269459    11.65999984741211\n",
       "...      ...        ...                  ...\n",
       "60110  chr19   54986389    5.949999809265137\n",
       "60111  chr19   38422166   24.489999771118164\n",
       "60112  chr19   53290647  0.07000000029802322\n",
       "60113  chr19   13821603    8.359999656677246\n",
       "60114  chr19   36996799   26.329999923706055\n",
       "\n",
       "[60115 rows x 3 columns]"
      ]
     },
     "execution_count": 1,
     "metadata": {},
     "output_type": "execute_result"
    }
   ],
   "source": [
    "import numpy as np\n",
    "import matplotlib.pyplot as plt\n",
    "\n",
    "with open(\"/home/maxime/genomewide_streme_mM_gap3_minpeak3/repeats.fasta\", \"r\") as f:\n",
    "    l = np.array(f.readlines()[::2])\n",
    "\n",
    "\n",
    "l = np.array(np.char.split(l, \"_\"))\n",
    "l = np.stack(l, axis = 0)\n",
    "\n",
    "import pandas as pd\n",
    "\n",
    "df = pd.DataFrame(l, columns=[\"chr\", \"pos\", \"score\"])\n",
    "df[\"chr\"] = df[\"chr\"].str.lstrip(\">\")\n",
    "df[\"score\"] = df[\"score\"].str.rstrip(\"\\n\")\n",
    "\n",
    "df = df.astype({'pos':'int64'})\n",
    "\n",
    "df\n",
    "\n"
   ]
  },
  {
   "cell_type": "code",
   "execution_count": 6,
   "metadata": {},
   "outputs": [
    {
     "name": "stdout",
     "output_type": "stream",
     "text": [
      "0\n"
     ]
    },
    {
     "data": {
      "text/html": [
       "<div>\n",
       "<style scoped>\n",
       "    .dataframe tbody tr th:only-of-type {\n",
       "        vertical-align: middle;\n",
       "    }\n",
       "\n",
       "    .dataframe tbody tr th {\n",
       "        vertical-align: top;\n",
       "    }\n",
       "\n",
       "    .dataframe thead th {\n",
       "        text-align: right;\n",
       "    }\n",
       "</style>\n",
       "<table border=\"1\" class=\"dataframe\">\n",
       "  <thead>\n",
       "    <tr style=\"text-align: right;\">\n",
       "      <th></th>\n",
       "      <th>#bin</th>\n",
       "      <th>swScore</th>\n",
       "      <th>milliDiv</th>\n",
       "      <th>milliDel</th>\n",
       "      <th>milliIns</th>\n",
       "      <th>genoName</th>\n",
       "      <th>genoStart</th>\n",
       "      <th>genoEnd</th>\n",
       "      <th>genoLeft</th>\n",
       "      <th>strand</th>\n",
       "      <th>repName</th>\n",
       "      <th>repClass</th>\n",
       "      <th>repFamily</th>\n",
       "      <th>repStart</th>\n",
       "      <th>repEnd</th>\n",
       "      <th>repLeft</th>\n",
       "      <th>id</th>\n",
       "    </tr>\n",
       "  </thead>\n",
       "  <tbody>\n",
       "    <tr>\n",
       "      <th>5148877</th>\n",
       "      <td>585</td>\n",
       "      <td>605</td>\n",
       "      <td>200</td>\n",
       "      <td>6</td>\n",
       "      <td>1</td>\n",
       "      <td>1</td>\n",
       "      <td>10000000000</td>\n",
       "      <td>10000000123</td>\n",
       "      <td>-325904</td>\n",
       "      <td>-</td>\n",
       "      <td>Lx11</td>\n",
       "      <td>LINE</td>\n",
       "      <td>L1</td>\n",
       "      <td>-436</td>\n",
       "      <td>1488</td>\n",
       "      <td>1388</td>\n",
       "      <td>8</td>\n",
       "    </tr>\n",
       "    <tr>\n",
       "      <th>5149504</th>\n",
       "      <td>585</td>\n",
       "      <td>1045</td>\n",
       "      <td>91</td>\n",
       "      <td>14</td>\n",
       "      <td>0</td>\n",
       "      <td>1</td>\n",
       "      <td>10000000000</td>\n",
       "      <td>10000000143</td>\n",
       "      <td>-456655</td>\n",
       "      <td>+</td>\n",
       "      <td>L1_Mur1</td>\n",
       "      <td>LINE</td>\n",
       "      <td>L1</td>\n",
       "      <td>5318</td>\n",
       "      <td>5462</td>\n",
       "      <td>-1364</td>\n",
       "      <td>1</td>\n",
       "    </tr>\n",
       "    <tr>\n",
       "      <th>5139358</th>\n",
       "      <td>585</td>\n",
       "      <td>498</td>\n",
       "      <td>195</td>\n",
       "      <td>12</td>\n",
       "      <td>0</td>\n",
       "      <td>1</td>\n",
       "      <td>10000000000</td>\n",
       "      <td>10000000082</td>\n",
       "      <td>-281173</td>\n",
       "      <td>-</td>\n",
       "      <td>B1_Mur4</td>\n",
       "      <td>SINE</td>\n",
       "      <td>Alu</td>\n",
       "      <td>-54</td>\n",
       "      <td>96</td>\n",
       "      <td>14</td>\n",
       "      <td>6</td>\n",
       "    </tr>\n",
       "    <tr>\n",
       "      <th>5151394</th>\n",
       "      <td>585</td>\n",
       "      <td>2376</td>\n",
       "      <td>21</td>\n",
       "      <td>3</td>\n",
       "      <td>168</td>\n",
       "      <td>1</td>\n",
       "      <td>10000000000</td>\n",
       "      <td>10000000410</td>\n",
       "      <td>-686532</td>\n",
       "      <td>-</td>\n",
       "      <td>RLTR10</td>\n",
       "      <td>LTR</td>\n",
       "      <td>ERVK</td>\n",
       "      <td>-48</td>\n",
       "      <td>342</td>\n",
       "      <td>1</td>\n",
       "      <td>1</td>\n",
       "    </tr>\n",
       "    <tr>\n",
       "      <th>5142931</th>\n",
       "      <td>585</td>\n",
       "      <td>399</td>\n",
       "      <td>217</td>\n",
       "      <td>53</td>\n",
       "      <td>36</td>\n",
       "      <td>1</td>\n",
       "      <td>10000000002</td>\n",
       "      <td>10000000112</td>\n",
       "      <td>-3760845</td>\n",
       "      <td>-</td>\n",
       "      <td>MLTR18C_MM</td>\n",
       "      <td>LTR</td>\n",
       "      <td>ERVK</td>\n",
       "      <td>-586</td>\n",
       "      <td>114</td>\n",
       "      <td>3</td>\n",
       "      <td>8</td>\n",
       "    </tr>\n",
       "  </tbody>\n",
       "</table>\n",
       "</div>"
      ],
      "text/plain": [
       "         #bin  swScore  milliDiv  milliDel  milliIns  genoName    genoStart  \\\n",
       "5148877   585      605       200         6         1         1  10000000000   \n",
       "5149504   585     1045        91        14         0         1  10000000000   \n",
       "5139358   585      498       195        12         0         1  10000000000   \n",
       "5151394   585     2376        21         3       168         1  10000000000   \n",
       "5142931   585      399       217        53        36         1  10000000002   \n",
       "\n",
       "             genoEnd  genoLeft strand     repName repClass repFamily  \\\n",
       "5148877  10000000123   -325904      -        Lx11     LINE        L1   \n",
       "5149504  10000000143   -456655      +     L1_Mur1     LINE        L1   \n",
       "5139358  10000000082   -281173      -     B1_Mur4     SINE       Alu   \n",
       "5151394  10000000410   -686532      -      RLTR10      LTR      ERVK   \n",
       "5142931  10000000112  -3760845      -  MLTR18C_MM      LTR      ERVK   \n",
       "\n",
       "         repStart  repEnd  repLeft  id  \n",
       "5148877      -436    1488     1388   8  \n",
       "5149504      5318    5462    -1364   1  \n",
       "5139358       -54      96       14   6  \n",
       "5151394       -48     342        1   1  \n",
       "5142931      -586     114        3   8  "
      ]
     },
     "execution_count": 6,
     "metadata": {},
     "output_type": "execute_result"
    }
   ],
   "source": [
    "import numpy as np\n",
    "import matplotlib.pyplot as plt\n",
    "\n",
    "with open(\"/home/maxime/genomewide_streme_mM_gap3_minpeak3/repeats.fasta\", \"r\") as f:\n",
    "    l = np.array(f.readlines()[::2])\n",
    "\n",
    "\n",
    "l = np.array(np.char.split(l, \"_\"))\n",
    "l = np.stack(l, axis = 0)\n",
    "\n",
    "import pandas as pd\n",
    "\n",
    "df = pd.DataFrame(l, columns=[\"chr\", \"pos\", \"score\"])\n",
    "df[\"chr\"] = df[\"chr\"].str.lstrip(\">\")\n",
    "df[\"score\"] = df[\"score\"].str.rstrip(\"\\n\")\n",
    "pos, chrom = np.array(df.pos, dtype= int), np.array(df.chr.str.lstrip(\"chr\"), dtype=int)\n",
    "pos+=chrom*int(1e10)\n",
    "df = df.astype({'pos':'int64'})\n",
    "\n",
    "\n",
    "rm = pd.read_csv(\"/home/maxime/data/sequences/mm10/repeat_masker\", sep=\"\\t\")\n",
    "#print(np.sum((rm.genoStart == 0) & (rm.genoName==\"chr1\")))\n",
    "rm.genoName = [int(x) if x.isnumeric() else 0 for x in [x[0].lstrip(\"chr\") for x in np.array(rm.genoName.str.split(\"_\"))] ]\n",
    "rm = rm[rm.genoName!=0]\n",
    "rm = rm.astype({'genoStart':'int64', 'genoEnd':'int64'})\n",
    "rm.genoStart = rm.genoStart + rm.genoName*int(1e10)\n",
    "rm.genoEnd = rm.genoEnd + rm.genoName*int(1e10)\n",
    "rm = rm.sort_values(by=['genoStart'])\n",
    "\n",
    "rm.head()\n"
   ]
  },
  {
   "cell_type": "code",
   "execution_count": 7,
   "metadata": {},
   "outputs": [],
   "source": [
    "pos = np.sort(pos)"
   ]
  },
  {
   "cell_type": "code",
   "execution_count": 8,
   "metadata": {},
   "outputs": [],
   "source": [
    "def find_closest_start(pos, df):\n",
    "    start_idx = np.searchsorted(df['genoStart'].values, pos, side='right') - 1\n",
    "    if start_idx < 0:\n",
    "        return None\n",
    "    return start_idx"
   ]
  },
  {
   "cell_type": "code",
   "execution_count": 37,
   "metadata": {},
   "outputs": [
    {
     "name": "stdout",
     "output_type": "stream",
     "text": [
      "10003018645\n",
      "[         #bin  swScore  milliDiv  milliDel  milliIns  genoName    genoStart  \\\n",
      "5147680   608       13       169         0        57         1  10003017623   \n",
      "5147681   608      333       349        26        50         1  10003020293   \n",
      "\n",
      "             genoEnd  genoLeft strand repName       repClass      repFamily  \\\n",
      "5147680  10003017660   -743297      +  (AAT)n  Simple_repeat  Simple_repeat   \n",
      "5147681  10003020453   -740504      +      B3           SINE             B2   \n",
      "\n",
      "         repStart  repEnd  repLeft  id  \n",
      "5147680         1      35        0   8  \n",
      "5147681        20     175      -41   8  ]\n"
     ]
    },
    {
     "data": {
      "text/html": [
       "<div>\n",
       "<style scoped>\n",
       "    .dataframe tbody tr th:only-of-type {\n",
       "        vertical-align: middle;\n",
       "    }\n",
       "\n",
       "    .dataframe tbody tr th {\n",
       "        vertical-align: top;\n",
       "    }\n",
       "\n",
       "    .dataframe thead th {\n",
       "        text-align: right;\n",
       "    }\n",
       "</style>\n",
       "<table border=\"1\" class=\"dataframe\">\n",
       "  <thead>\n",
       "    <tr style=\"text-align: right;\">\n",
       "      <th></th>\n",
       "      <th>#bin</th>\n",
       "      <th>swScore</th>\n",
       "      <th>milliDiv</th>\n",
       "      <th>milliDel</th>\n",
       "      <th>milliIns</th>\n",
       "      <th>genoName</th>\n",
       "      <th>genoStart</th>\n",
       "      <th>genoEnd</th>\n",
       "      <th>genoLeft</th>\n",
       "      <th>strand</th>\n",
       "      <th>repName</th>\n",
       "      <th>repClass</th>\n",
       "      <th>repFamily</th>\n",
       "      <th>repStart</th>\n",
       "      <th>repEnd</th>\n",
       "      <th>repLeft</th>\n",
       "      <th>id</th>\n",
       "    </tr>\n",
       "  </thead>\n",
       "  <tbody>\n",
       "    <tr>\n",
       "      <th>5147680</th>\n",
       "      <td>608</td>\n",
       "      <td>13</td>\n",
       "      <td>169</td>\n",
       "      <td>0</td>\n",
       "      <td>57</td>\n",
       "      <td>1</td>\n",
       "      <td>10003017623</td>\n",
       "      <td>10003017660</td>\n",
       "      <td>-743297</td>\n",
       "      <td>+</td>\n",
       "      <td>(AAT)n</td>\n",
       "      <td>Simple_repeat</td>\n",
       "      <td>Simple_repeat</td>\n",
       "      <td>1</td>\n",
       "      <td>35</td>\n",
       "      <td>0</td>\n",
       "      <td>8</td>\n",
       "    </tr>\n",
       "    <tr>\n",
       "      <th>5147681</th>\n",
       "      <td>608</td>\n",
       "      <td>333</td>\n",
       "      <td>349</td>\n",
       "      <td>26</td>\n",
       "      <td>50</td>\n",
       "      <td>1</td>\n",
       "      <td>10003020293</td>\n",
       "      <td>10003020453</td>\n",
       "      <td>-740504</td>\n",
       "      <td>+</td>\n",
       "      <td>B3</td>\n",
       "      <td>SINE</td>\n",
       "      <td>B2</td>\n",
       "      <td>20</td>\n",
       "      <td>175</td>\n",
       "      <td>-41</td>\n",
       "      <td>8</td>\n",
       "    </tr>\n",
       "  </tbody>\n",
       "</table>\n",
       "</div>"
      ],
      "text/plain": [
       "         #bin  swScore  milliDiv  milliDel  milliIns  genoName    genoStart  \\\n",
       "5147680   608       13       169         0        57         1  10003017623   \n",
       "5147681   608      333       349        26        50         1  10003020293   \n",
       "\n",
       "             genoEnd  genoLeft strand repName       repClass      repFamily  \\\n",
       "5147680  10003017660   -743297      +  (AAT)n  Simple_repeat  Simple_repeat   \n",
       "5147681  10003020453   -740504      +      B3           SINE             B2   \n",
       "\n",
       "         repStart  repEnd  repLeft  id  \n",
       "5147680         1      35        0   8  \n",
       "5147681        20     175      -41   8  "
      ]
     },
     "execution_count": 37,
     "metadata": {},
     "output_type": "execute_result"
    }
   ],
   "source": [
    "matches = []\n",
    "start_idx = 0\n",
    "for i, p in enumerate(pos):\n",
    "    start_idx = find_closest_start(p,rm.iloc[start_idx:])\n",
    "    if start_idx is None:\n",
    "        continue\n",
    "    end_idx = start_idx + np.searchsorted(rm.iloc[start_idx:]['genoEnd'].values, p, side='right')\n",
    "    if end_idx >= len(df):\n",
    "        continue\n",
    "    matches.append(rm.iloc[start_idx:end_idx+1])\n",
    "    print(p)\n",
    "    print(matches)\n",
    "    break\n",
    "matches = pd.concat(matches)\n",
    "matches"
   ]
  },
  {
   "cell_type": "code",
   "execution_count": 35,
   "metadata": {},
   "outputs": [
    {
     "data": {
      "text/plain": [
       "([0, 1, 2, 3, 4, 5, 6, 7, 8, 9],\n",
       " [Text(0, 0, ''),\n",
       "  Text(0, 0, ''),\n",
       "  Text(0, 0, ''),\n",
       "  Text(0, 0, ''),\n",
       "  Text(0, 0, ''),\n",
       "  Text(0, 0, ''),\n",
       "  Text(0, 0, ''),\n",
       "  Text(0, 0, ''),\n",
       "  Text(0, 0, ''),\n",
       "  Text(0, 0, '')])"
      ]
     },
     "execution_count": 35,
     "metadata": {},
     "output_type": "execute_result"
    },
    {
     "data": {
      "image/png": "[encoded data removed]",
      "text/plain": [
       "<Figure size 576x576 with 1 Axes>"
      ]
     },
     "metadata": {
      "needs_background": "light"
     },
     "output_type": "display_data"
    }
   ],
   "source": [
    "uni, cou = np.unique(matches.repFamily, return_counts=True)\n",
    "number = 10\n",
    "idx = np.argsort(cou)[::-1]\n",
    "idx = idx[:number]\n",
    "plt.figure(figsize=(8, 8))\n",
    "plt.bar(x=uni[idx],height=cou[idx])\n",
    "plt.yscale(\"log\")\n",
    "plt.xticks(rotation = 45)"
   ]
  },
  {
   "cell_type": "code",
   "execution_count": 38,
   "metadata": {},
   "outputs": [],
   "source": [
    "chr, pos, score = [], [], []\n",
    "with open(\"/home/maxime/genomewide_streme_mM_gap3_minpeak3/repeats.fasta\", \"r\") as f:\n",
    "    l = np.array(f.readlines()[::2])\n",
    "\n",
    "\n",
    "l = np.array(np.char.split(l, \"_\"))\n",
    "l = np.stack(l, axis = 0)\n",
    "\n",
    "import pandas as pd\n",
    "\n",
    "df = pd.DataFrame(l, columns=[\"chr\", \"pos\", \"score\"])\n",
    "\n",
    "df[\"chr\"] = df[\"chr\"].str.lstrip(\">\")\n",
    "df[\"score\"] = df[\"score\"].str.rstrip(\"\\n\")\n",
    "df = df.astype({'pos':'int64'})\n",
    "\n",
    "rm = pd.read_csv(\"/home/maxime/data/sequences/mm10/repeat_masker\", sep = \"\\t\")\n",
    "\n",
    "def search(x):\n",
    "    mask = np.logical_and(rm.genoName == x[\"chr\"],np.logical_and(rm.genoStart<=x['pos'], rm.genoEnd>=x['pos']))\n",
    "    return rm.loc[mask].repName.tolist()[0]\n",
    "\n",
    "\n",
    "rep = df[:10].apply(search, axis=1)\n",
    "df.to_csv(\"/home/maxime/genomewide_streme_mA/repeats.csv\", sep = \"\\t\")"
   ]
  },
  {
   "cell_type": "code",
   "execution_count": 56,
   "metadata": {},
   "outputs": [],
   "source": [
    "import time\n",
    "t =  []\n",
    "for i in [1, 5, 10, 100, 1000]:\n",
    "    t0 = time.time()\n",
    "    rep = df[:i].apply(search, axis=1)\n",
    "    t.append(time.time()-t0)"
   ]
  },
  {
   "cell_type": "code",
   "execution_count": 57,
   "metadata": {},
   "outputs": [],
   "source": [
    "def search_opt(df, rm):\n",
    "    mask = np.logical_and(rm.genoName.values.reshape((-1,1)) == df[\"chr\"].values[:, None], np.logical_and(rm.genoStart.values[:, None] <= df['pos'].values, rm.genoEnd.values[:, None] >= df['pos'].values))\n",
    "    return pd.Series(np.where(mask.any(axis=0), rm.loc[mask.argmax(axis=0), 'repName'], np.nan), index=df.index)\n"
   ]
  },
  {
   "cell_type": "code",
   "execution_count": 71,
   "metadata": {},
   "outputs": [],
   "source": [
    "def search_opt(df, rm):\n",
    "    mask = np.logical_and(rm.genoName.values[:, None] == df[\"chr\"].values, np.logical_and(rm.genoStart.values[:, None] <= df['pos'].values, rm.genoEnd.values[:, None] >= df['pos'].values))\n",
    "    return pd.Series(np.where(mask.any(axis=0), rm.loc[mask.argmax(axis=0), 'repName'], np.nan), index=df.index)\n",
    "r = search_opt(df[:2], rm)\n",
    "import time\n",
    "topt =  []\n",
    "for i in [1, 5, 10, 100, 500, 1000]:\n",
    "    t0 = time.time()\n",
    "    r = search_opt(df[:i], rm)\n",
    "    topt.append(time.time()-t0)"
   ]
  },
  {
   "cell_type": "code",
   "execution_count": 72,
   "metadata": {},
   "outputs": [
    {
     "data": {
      "text/plain": [
       "<matplotlib.collections.PathCollection at 0x7fade14ea460>"
      ]
     },
     "execution_count": 72,
     "metadata": {},
     "output_type": "execute_result"
    },
    {
     "data": {
      "image/png": "[encoded data removed]",
      "text/plain": [
       "<Figure size 432x288 with 1 Axes>"
      ]
     },
     "metadata": {
      "needs_background": "light"
     },
     "output_type": "display_data"
    }
   ],
   "source": [
    "plt.scatter([1, 5, 10, 100, 1000], t)\n",
    "plt.scatter([1, 5, 10, 100,500, 1000], topt)"
   ]
  },
  {
   "cell_type": "code",
   "execution_count": 77,
   "metadata": {},
   "outputs": [
    {
     "data": {
      "text/plain": [
       "1.7182027141253153"
      ]
     },
     "execution_count": 77,
     "metadata": {},
     "output_type": "execute_result"
    }
   ],
   "source": [
    "(topt[-1]/1000)*60000/3600"
   ]
  },
  {
   "cell_type": "code",
   "execution_count": 74,
   "metadata": {},
   "outputs": [
    {
     "data": {
      "text/plain": [
       "<AxesSubplot:>"
      ]
     },
     "execution_count": 74,
     "metadata": {},
     "output_type": "execute_result"
    },
    {
     "data": {
      "image/png": "[encoded data removed]",
      "text/plain": [
       "<Figure size 432x288 with 1 Axes>"
      ]
     },
     "metadata": {
      "needs_background": "light"
     },
     "output_type": "display_data"
    }
   ],
   "source": [
    "r.hist()"
   ]
  },
  {
   "cell_type": "code",
   "execution_count": 81,
   "metadata": {},
   "outputs": [],
   "source": [
    "\n",
    "def search_opt(df, rm):\n",
    "    mask = np.logical_and(rm.genoName.values[:, None] == df[\"chr\"].values, np.logical_and(rm.genoStart.values[:, None] <= df['pos'].values, rm.genoEnd.values[:, None] >= df['pos'].values))\n",
    "    return pd.Series(np.where(mask.any(axis=0), rm.loc[mask.argmax(axis=0), 'repName'], np.nan), index=df.index)\n",
    "\n",
    "r = []\n",
    "idx = 0\n",
    "dftmp = df[:130]\n",
    "for i in range(len(dftmp)//100):\n",
    "    r.append(search_opt(dftmp[idx:idx+100], rm))\n",
    "    idx+=100\n",
    "\n",
    "r.append(search_opt(dftmp[idx:], rm))\n",
    "\n",
    "\n"
   ]
  },
  {
   "cell_type": "code",
   "execution_count": 83,
   "metadata": {},
   "outputs": [
    {
     "data": {
      "text/plain": [
       "0      L1Md_F3\n",
       "1        L1ME1\n",
       "2      L1_Mur3\n",
       "3        (TG)n\n",
       "4        (GA)n\n",
       "        ...   \n",
       "125    Lx3_Mus\n",
       "126        Lx8\n",
       "127       MT2A\n",
       "128    (GAAA)n\n",
       "129    L1Md_F2\n",
       "Length: 130, dtype: object"
      ]
     },
     "execution_count": 83,
     "metadata": {},
     "output_type": "execute_result"
    }
   ],
   "source": [
    "pd.concat(r)"
   ]
  },
  {
   "cell_type": "code",
   "execution_count": 36,
   "metadata": {},
   "outputs": [],
   "source": [
    "import pandas as pd\n",
    "import matplotlib.pyplot as plt\n",
    "\n",
    "a = pd.read_csv(\"/home/maxime/genomewide_streme_mA_gap3_minpeak3/repeats.csv\", sep = \"\\t\")\n",
    "rm = pd.read_csv(\"/home/maxime/data/sequences/mm10/repeat_masker\", sep = \"\\t\")\n",
    "\n",
    "names = [\"repName\", \"repClass\", \"repFamily\"]\n",
    "for i in range(1, 3):\n",
    "    val = pd.DataFrame(rm.groupby(names))[0].values\n",
    "    dico = {}\n",
    "    for v in val:\n",
    "        dico[v[0]] = v[i]\n",
    "    a[names[i]] = list(map(lambda x : dico[x],a.repName))"
   ]
  },
  {
   "cell_type": "code",
   "execution_count": 39,
   "metadata": {},
   "outputs": [
    {
     "data": {
      "text/plain": [
       "array(['L1', 'B2', 'Low_complexity', 'Satellite', 'Simple_repeat',\n",
       "       'ERVL-MaLR', 'hAT-Charlie', 'ERVK', 'B4', 'ERVL', 'L2', 'Alu',\n",
       "       'ERV1', 'TcMar-Tigger', 'ID', 'L1-dep?', 'hAT-Tip100', 'MIR',\n",
       "       'ERVK?', 'LTR?', 'tRNA', 'Y-chromosome', 'RTE-X', 'TcMar-Tc2',\n",
       "       'CR1', 'Unknown', 'Gypsy?', 'Deu', 'Merlin', 'LTR',\n",
       "       'hAT-Blackjack', 'Helitron', 'snRNA', 'Gypsy', 'scRNA', 'ERVL?',\n",
       "       'DNA', 'DNA?', 'TcMar-Mariner', 'tRNA-RTE', 'PiggyBac', 'hAT',\n",
       "       'TcMar?', 'hAT?', 'hAT-Tip100?', 'MuDR', 'tRNA-Deu', 'TcMar',\n",
       "       'SINE?', 'RTE-BovB', 'Helitron?', 'srpRNA', 'rRNA'], dtype=object)"
      ]
     },
     "execution_count": 39,
     "metadata": {},
     "output_type": "execute_result"
    }
   ],
   "source": [
    "pd.unique(a.repFamily)"
   ]
  },
  {
   "cell_type": "code",
   "execution_count": 40,
   "metadata": {},
   "outputs": [
    {
     "data": {
      "text/plain": [
       "([0, 1, 2, 3, 4, 5, 6, 7, 8, 9],\n",
       " [Text(0, 0, ''),\n",
       "  Text(0, 0, ''),\n",
       "  Text(0, 0, ''),\n",
       "  Text(0, 0, ''),\n",
       "  Text(0, 0, ''),\n",
       "  Text(0, 0, ''),\n",
       "  Text(0, 0, ''),\n",
       "  Text(0, 0, ''),\n",
       "  Text(0, 0, ''),\n",
       "  Text(0, 0, '')])"
      ]
     },
     "execution_count": 40,
     "metadata": {},
     "output_type": "execute_result"
    },
    {
     "data": {
      "image/png": "[encoded data removed]",
      "text/plain": [
       "<Figure size 2160x504 with 1 Axes>"
      ]
     },
     "metadata": {
      "needs_background": "light"
     },
     "output_type": "display_data"
    }
   ],
   "source": [
    "uni, cou = np.unique(a.repFamily, return_counts=True)\n",
    "idx = np.argsort(cou)[::-1]\n",
    "n = 10\n",
    "plt.figure(figsize=(30, 7))\n",
    "plt.bar(uni[idx][:n], cou[idx][:n])\n",
    "plt.xticks(fontsize=20)"
   ]
  },
  {
   "cell_type": "code",
   "execution_count": 41,
   "metadata": {},
   "outputs": [
    {
     "data": {
      "text/plain": [
       "([0, 1, 2, 3, 4, 5, 6, 7, 8, 9],\n",
       " [Text(0, 0, ''),\n",
       "  Text(0, 0, ''),\n",
       "  Text(0, 0, ''),\n",
       "  Text(0, 0, ''),\n",
       "  Text(0, 0, ''),\n",
       "  Text(0, 0, ''),\n",
       "  Text(0, 0, ''),\n",
       "  Text(0, 0, ''),\n",
       "  Text(0, 0, ''),\n",
       "  Text(0, 0, '')])"
      ]
     },
     "execution_count": 41,
     "metadata": {},
     "output_type": "execute_result"
    },
    {
     "data": {
      "image/png": "[encoded data removed]",
      "text/plain": [
       "<Figure size 2160x504 with 1 Axes>"
      ]
     },
     "metadata": {
      "needs_background": "light"
     },
     "output_type": "display_data"
    }
   ],
   "source": [
    "uni, cou = np.unique(a.repName, return_counts=True)\n",
    "idx = np.argsort(cou)[::-1]\n",
    "n = 10\n",
    "plt.figure(figsize=(30, 7))\n",
    "plt.bar(uni[idx][:n], cou[idx][:n])\n",
    "plt.xticks(fontsize=20)"
   ]
  },
  {
   "cell_type": "code",
   "execution_count": 48,
   "metadata": {},
   "outputs": [
    {
     "data": {
      "text/plain": [
       "(189471971,)"
      ]
     },
     "execution_count": 48,
     "metadata": {},
     "output_type": "execute_result"
    }
   ],
   "source": [
    "mut = np.mean(np.load(\"/home/maxime/data/mnase/mutasome/archives/mut_mA_chr1_3M_minus3M.npy\"), axis = 1)\n",
    "mut.shape"
   ]
  },
  {
   "cell_type": "code",
   "execution_count": 50,
   "metadata": {},
   "outputs": [
    {
     "data": {
      "text/plain": [
       "[<matplotlib.lines.Line2D at 0x7fc4e46b4880>]"
      ]
     },
     "execution_count": 50,
     "metadata": {},
     "output_type": "execute_result"
    },
    {
     "data": {
      "image/png": "[encoded data removed]",
      "text/plain": [
       "<Figure size 432x288 with 1 Axes>"
      ]
     },
     "metadata": {
      "needs_background": "light"
     },
     "output_type": "display_data"
    }
   ],
   "source": [
    "b2p = np.array(a[(a.chr==\"chr1\") & (a.repFamily==\"B2\")][\"pos\"])\n",
    "\n",
    "tmp = []\n",
    "for b in b2p:\n",
    "    b -= 3_000_000\n",
    "    tmp.append(mut[b-50:b+50])\n",
    "\n",
    "plt.plot(np.mean(tmp, axis = 0))"
   ]
  },
  {
   "cell_type": "code",
   "execution_count": null,
   "metadata": {},
   "outputs": [],
   "source": []
  }
 ],
 "metadata": {
  "kernelspec": {
   "display_name": "Python 3.8.12 ('tf2.5': conda)",
   "language": "python",
   "name": "python3"
  },
  "language_info": {
   "codemirror_mode": {
    "name": "ipython",
    "version": 3
   },
   "file_extension": ".py",
   "mimetype": "text/x-python",
   "name": "python",
   "nbconvert_exporter": "python",
   "pygments_lexer": "ipython3",
   "version": "3.8.12"
  },
  "orig_nbformat": 4,
  "vscode": {
   "interpreter": {
    "hash": "29493909952d4482d1069541eb54b730216e8d1171f11c4bbaf55f207185632a"
   }
  }
 },
 "nbformat": 4,
 "nbformat_minor": 2
}
